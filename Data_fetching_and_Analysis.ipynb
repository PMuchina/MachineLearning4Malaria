{
 "cells": [
  {
   "cell_type": "markdown",
   "metadata": {},
   "source": [
    "## It takes too long for machine learning models to diffuse to diseases of the poor \n",
    "\n",
    "The main question we seek to answer is:\n",
    "- How well has machine learning been adopted by Biologists?\n",
    "- Compared with cancer research, how well has machine learning been adopted?\n",
    "\n",
    "This notebook supports the [medium article](https://medium.com/@siwomolbio/machinelearning4malaria-e171ca85e7f5)\n",
    "\n",
    "pubmed data downloaded on 3rd May, 2019. "
   ]
  },
  {
   "cell_type": "code",
   "execution_count": null,
   "metadata": {},
   "outputs": [],
   "source": [
    "from Bio import Entrez\n",
    "import pandas as pd\n",
    "\n",
    "import seaborn as sns\n",
    "sns.set(style=\"whitegrid\")\n",
    "import matplotlib.pyplot as plt\n",
    "\n",
    "import matplotlib\n",
    "matplotlib.use(\"Agg\")\n",
    "import matplotlib.pyplot as plt\n",
    "import pandas as pd\n",
    "%matplotlib inline"
   ]
  },
  {
   "cell_type": "code",
   "execution_count": 2,
   "metadata": {},
   "outputs": [],
   "source": [
    "Entrez.email = \"calebkibet88@gmail.com\""
   ]
  },
  {
   "cell_type": "code",
   "execution_count": 3,
   "metadata": {},
   "outputs": [],
   "source": [
    "other_tech = ['\"DNA sequencing\"', '\"PCR\"',\n",
    "              '\"ELISA\"','\"microarray\"',\n",
    "              '\"Sanger sequencing\"','\"Nanopore sequencing\"',\n",
    "              '\"GWAS\"']"
   ]
  },
  {
   "cell_type": "code",
   "execution_count": 207,
   "metadata": {},
   "outputs": [],
   "source": [
    "ml = ['\"machine learning\"','\"neural networks\"',\n",
    "     '\"support vector machine\"',\n",
    "     '\"k-nearest neighbor\"',\n",
    "     '\"linear regression\"',\n",
    "     '\"random forests\"',\n",
    "     '\"logistic regression\"',\n",
    "     '\"convolutional neural networks\"','\"bayesian networks \"']"
   ]
  },
  {
   "cell_type": "markdown",
   "metadata": {},
   "source": [
    "## Download data Details from PubMed\n",
    "\n",
    "Using the code below, we get to fetch the data we are interested which talks about malaria and the various machine learning models. "
   ]
  },
  {
   "cell_type": "code",
   "execution_count": 5,
   "metadata": {},
   "outputs": [],
   "source": [
    "# make a placeholder to store result from querying \n",
    "def get_count(disease,ml):\n",
    "    df = pd.DataFrame(columns=[\"ML_algorithm\", \"Count\", 'First_Paper','Latest_paper'])\n",
    "    for machine in ml:\n",
    "        handle = Entrez.esearch(db = \"pubmed\", retmax=10000000, term=\"[%s] AND %s\" % (machine,disease))\n",
    "        kenyan_records = Entrez.read(handle)\n",
    "        kenyan_pubids = kenyan_records[\"IdList\"]\n",
    "        \n",
    "        handle_1 = Entrez.esummary(db=\"pubmed\", id = kenyan_pubids[0])\n",
    "        handle_2 = Entrez.esummary(db=\"pubmed\", id = kenyan_pubids[-1])\n",
    "        \n",
    "        record_1 = Entrez.read(handle_1)\n",
    "        record_2 = Entrez.read(handle_2)\n",
    "        # see what we are capable of subsetting\n",
    "        \n",
    "        df.loc[len(df)]= [machine.replace('\"',''), len(kenyan_pubids), record_2[0][\"PubDate\"],record_1[0][\"PubDate\"]]\n",
    "        \n",
    "    #df.to_csv()\n",
    "    return df\n",
    "        "
   ]
  },
  {
   "cell_type": "code",
   "execution_count": 6,
   "metadata": {},
   "outputs": [
    {
     "data": {
      "text/html": [
       "<div>\n",
       "<style scoped>\n",
       "    .dataframe tbody tr th:only-of-type {\n",
       "        vertical-align: middle;\n",
       "    }\n",
       "\n",
       "    .dataframe tbody tr th {\n",
       "        vertical-align: top;\n",
       "    }\n",
       "\n",
       "    .dataframe thead th {\n",
       "        text-align: right;\n",
       "    }\n",
       "</style>\n",
       "<table border=\"1\" class=\"dataframe\">\n",
       "  <thead>\n",
       "    <tr style=\"text-align: right;\">\n",
       "      <th></th>\n",
       "      <th>ML_algorithm</th>\n",
       "      <th>Count</th>\n",
       "      <th>First_Paper</th>\n",
       "      <th>Latest_paper</th>\n",
       "    </tr>\n",
       "  </thead>\n",
       "  <tbody>\n",
       "    <tr>\n",
       "      <th>0</th>\n",
       "      <td>machine learning</td>\n",
       "      <td>3121</td>\n",
       "      <td>1990 Oct</td>\n",
       "      <td>2019 May</td>\n",
       "    </tr>\n",
       "    <tr>\n",
       "      <th>1</th>\n",
       "      <td>neural networks</td>\n",
       "      <td>2499</td>\n",
       "      <td>1989 May</td>\n",
       "      <td>2019 Apr 25</td>\n",
       "    </tr>\n",
       "    <tr>\n",
       "      <th>2</th>\n",
       "      <td>support vector machine</td>\n",
       "      <td>1976</td>\n",
       "      <td>2000 Oct</td>\n",
       "      <td>2019 Apr 25</td>\n",
       "    </tr>\n",
       "    <tr>\n",
       "      <th>3</th>\n",
       "      <td>k-nearest neighbor</td>\n",
       "      <td>292</td>\n",
       "      <td>1992 Jun</td>\n",
       "      <td>2019 Mar</td>\n",
       "    </tr>\n",
       "    <tr>\n",
       "      <th>4</th>\n",
       "      <td>linear regression</td>\n",
       "      <td>7912</td>\n",
       "      <td>1975 Jun</td>\n",
       "      <td>2019 May 2</td>\n",
       "    </tr>\n",
       "    <tr>\n",
       "      <th>5</th>\n",
       "      <td>random forests</td>\n",
       "      <td>214</td>\n",
       "      <td>2003 Apr 1</td>\n",
       "      <td>2019 May</td>\n",
       "    </tr>\n",
       "    <tr>\n",
       "      <th>6</th>\n",
       "      <td>logistic regression</td>\n",
       "      <td>41445</td>\n",
       "      <td>1976</td>\n",
       "      <td>2019 May 3</td>\n",
       "    </tr>\n",
       "    <tr>\n",
       "      <th>7</th>\n",
       "      <td>convolutional neural networks</td>\n",
       "      <td>271</td>\n",
       "      <td>2013</td>\n",
       "      <td>2019 Apr</td>\n",
       "    </tr>\n",
       "    <tr>\n",
       "      <th>8</th>\n",
       "      <td>bayesian networks</td>\n",
       "      <td>127</td>\n",
       "      <td>1995</td>\n",
       "      <td>2019 Apr 30</td>\n",
       "    </tr>\n",
       "  </tbody>\n",
       "</table>\n",
       "</div>"
      ],
      "text/plain": [
       "                    ML_algorithm  Count First_Paper Latest_paper\n",
       "0               machine learning   3121    1990 Oct     2019 May\n",
       "1                neural networks   2499    1989 May  2019 Apr 25\n",
       "2         support vector machine   1976    2000 Oct  2019 Apr 25\n",
       "3             k-nearest neighbor    292    1992 Jun     2019 Mar\n",
       "4              linear regression   7912    1975 Jun   2019 May 2\n",
       "5                 random forests    214  2003 Apr 1     2019 May\n",
       "6            logistic regression  41445        1976   2019 May 3\n",
       "7  convolutional neural networks    271        2013     2019 Apr\n",
       "8             bayesian networks     127        1995  2019 Apr 30"
      ]
     },
     "execution_count": 6,
     "metadata": {},
     "output_type": "execute_result"
    }
   ],
   "source": [
    "cancer_df = get_count(\"cancer\",ml)\n",
    "cancer_df"
   ]
  },
  {
   "cell_type": "code",
   "execution_count": 7,
   "metadata": {},
   "outputs": [
    {
     "data": {
      "text/html": [
       "<div>\n",
       "<style scoped>\n",
       "    .dataframe tbody tr th:only-of-type {\n",
       "        vertical-align: middle;\n",
       "    }\n",
       "\n",
       "    .dataframe tbody tr th {\n",
       "        vertical-align: top;\n",
       "    }\n",
       "\n",
       "    .dataframe thead th {\n",
       "        text-align: right;\n",
       "    }\n",
       "</style>\n",
       "<table border=\"1\" class=\"dataframe\">\n",
       "  <thead>\n",
       "    <tr style=\"text-align: right;\">\n",
       "      <th></th>\n",
       "      <th>ML_algorithm</th>\n",
       "      <th>Count</th>\n",
       "      <th>First_Paper</th>\n",
       "      <th>Latest_paper</th>\n",
       "    </tr>\n",
       "  </thead>\n",
       "  <tbody>\n",
       "    <tr>\n",
       "      <th>0</th>\n",
       "      <td>machine learning</td>\n",
       "      <td>75</td>\n",
       "      <td>2008 Apr 16</td>\n",
       "      <td>2019 Apr 30</td>\n",
       "    </tr>\n",
       "    <tr>\n",
       "      <th>1</th>\n",
       "      <td>neural networks</td>\n",
       "      <td>31</td>\n",
       "      <td>2001</td>\n",
       "      <td>2019 Mar 27</td>\n",
       "    </tr>\n",
       "    <tr>\n",
       "      <th>2</th>\n",
       "      <td>support vector machine</td>\n",
       "      <td>21</td>\n",
       "      <td>2008 Feb 15</td>\n",
       "      <td>2019 Mar</td>\n",
       "    </tr>\n",
       "    <tr>\n",
       "      <th>3</th>\n",
       "      <td>k-nearest neighbor</td>\n",
       "      <td>7</td>\n",
       "      <td>2010 Mar</td>\n",
       "      <td>2019 Apr 1</td>\n",
       "    </tr>\n",
       "    <tr>\n",
       "      <th>4</th>\n",
       "      <td>linear regression</td>\n",
       "      <td>220</td>\n",
       "      <td>1983 Dec</td>\n",
       "      <td>2019</td>\n",
       "    </tr>\n",
       "    <tr>\n",
       "      <th>5</th>\n",
       "      <td>random forests</td>\n",
       "      <td>6</td>\n",
       "      <td>2013 Feb 11</td>\n",
       "      <td>2018 Feb 14</td>\n",
       "    </tr>\n",
       "    <tr>\n",
       "      <th>6</th>\n",
       "      <td>logistic regression</td>\n",
       "      <td>1022</td>\n",
       "      <td>1987 Oct</td>\n",
       "      <td>2019 Apr 26</td>\n",
       "    </tr>\n",
       "    <tr>\n",
       "      <th>7</th>\n",
       "      <td>convolutional neural networks</td>\n",
       "      <td>3</td>\n",
       "      <td>2018</td>\n",
       "      <td>2018 Sep 25</td>\n",
       "    </tr>\n",
       "    <tr>\n",
       "      <th>8</th>\n",
       "      <td>bayesian networks</td>\n",
       "      <td>3</td>\n",
       "      <td>2015 Aug 28</td>\n",
       "      <td>2018 Jan</td>\n",
       "    </tr>\n",
       "  </tbody>\n",
       "</table>\n",
       "</div>"
      ],
      "text/plain": [
       "                    ML_algorithm Count  First_Paper Latest_paper\n",
       "0               machine learning    75  2008 Apr 16  2019 Apr 30\n",
       "1                neural networks    31         2001  2019 Mar 27\n",
       "2         support vector machine    21  2008 Feb 15     2019 Mar\n",
       "3             k-nearest neighbor     7     2010 Mar   2019 Apr 1\n",
       "4              linear regression   220     1983 Dec         2019\n",
       "5                 random forests     6  2013 Feb 11  2018 Feb 14\n",
       "6            logistic regression  1022     1987 Oct  2019 Apr 26\n",
       "7  convolutional neural networks     3         2018  2018 Sep 25\n",
       "8             bayesian networks      3  2015 Aug 28     2018 Jan"
      ]
     },
     "execution_count": 7,
     "metadata": {},
     "output_type": "execute_result"
    }
   ],
   "source": [
    "malaria_df = get_count(\"malaria\",ml)\n",
    "malaria_df"
   ]
  },
  {
   "cell_type": "code",
   "execution_count": 8,
   "metadata": {},
   "outputs": [
    {
     "data": {
      "text/html": [
       "<div>\n",
       "<style scoped>\n",
       "    .dataframe tbody tr th:only-of-type {\n",
       "        vertical-align: middle;\n",
       "    }\n",
       "\n",
       "    .dataframe tbody tr th {\n",
       "        vertical-align: top;\n",
       "    }\n",
       "\n",
       "    .dataframe thead th {\n",
       "        text-align: right;\n",
       "    }\n",
       "</style>\n",
       "<table border=\"1\" class=\"dataframe\">\n",
       "  <thead>\n",
       "    <tr style=\"text-align: right;\">\n",
       "      <th></th>\n",
       "      <th>ML_algorithm</th>\n",
       "      <th>Count</th>\n",
       "      <th>First_Paper</th>\n",
       "      <th>Latest_paper</th>\n",
       "    </tr>\n",
       "  </thead>\n",
       "  <tbody>\n",
       "    <tr>\n",
       "      <th>0</th>\n",
       "      <td>DNA sequencing</td>\n",
       "      <td>5553</td>\n",
       "      <td>1978 Jun 27</td>\n",
       "      <td>2019 Mar 13</td>\n",
       "    </tr>\n",
       "    <tr>\n",
       "      <th>1</th>\n",
       "      <td>PCR</td>\n",
       "      <td>105318</td>\n",
       "      <td>1978 Mar</td>\n",
       "      <td>2019 May 3</td>\n",
       "    </tr>\n",
       "    <tr>\n",
       "      <th>2</th>\n",
       "      <td>ELISA</td>\n",
       "      <td>20679</td>\n",
       "      <td>1978</td>\n",
       "      <td>2019 May 2</td>\n",
       "    </tr>\n",
       "    <tr>\n",
       "      <th>3</th>\n",
       "      <td>microarray</td>\n",
       "      <td>32592</td>\n",
       "      <td>1953 Jan</td>\n",
       "      <td>2019 May 2</td>\n",
       "    </tr>\n",
       "    <tr>\n",
       "      <th>4</th>\n",
       "      <td>Sanger sequencing</td>\n",
       "      <td>1954</td>\n",
       "      <td>1995 Feb</td>\n",
       "      <td>2019 May 2</td>\n",
       "    </tr>\n",
       "    <tr>\n",
       "      <th>5</th>\n",
       "      <td>Nanopore sequencing</td>\n",
       "      <td>32</td>\n",
       "      <td>2013 Jan</td>\n",
       "      <td>2019 Apr 25</td>\n",
       "    </tr>\n",
       "    <tr>\n",
       "      <th>6</th>\n",
       "      <td>GWAS</td>\n",
       "      <td>2229</td>\n",
       "      <td>1997 Feb</td>\n",
       "      <td>2019 May 1</td>\n",
       "    </tr>\n",
       "  </tbody>\n",
       "</table>\n",
       "</div>"
      ],
      "text/plain": [
       "          ML_algorithm   Count  First_Paper Latest_paper\n",
       "0       DNA sequencing    5553  1978 Jun 27  2019 Mar 13\n",
       "1                  PCR  105318     1978 Mar   2019 May 3\n",
       "2                ELISA   20679         1978   2019 May 2\n",
       "3           microarray   32592     1953 Jan   2019 May 2\n",
       "4    Sanger sequencing    1954     1995 Feb   2019 May 2\n",
       "5  Nanopore sequencing      32     2013 Jan  2019 Apr 25\n",
       "6                 GWAS    2229     1997 Feb   2019 May 1"
      ]
     },
     "execution_count": 8,
     "metadata": {},
     "output_type": "execute_result"
    }
   ],
   "source": [
    "other_tech_cancer = get_count(\"cancer\",other_tech)\n",
    "other_tech_cancer"
   ]
  },
  {
   "cell_type": "code",
   "execution_count": 9,
   "metadata": {},
   "outputs": [
    {
     "data": {
      "text/html": [
       "<div>\n",
       "<style scoped>\n",
       "    .dataframe tbody tr th:only-of-type {\n",
       "        vertical-align: middle;\n",
       "    }\n",
       "\n",
       "    .dataframe tbody tr th {\n",
       "        vertical-align: top;\n",
       "    }\n",
       "\n",
       "    .dataframe thead th {\n",
       "        text-align: right;\n",
       "    }\n",
       "</style>\n",
       "<table border=\"1\" class=\"dataframe\">\n",
       "  <thead>\n",
       "    <tr style=\"text-align: right;\">\n",
       "      <th></th>\n",
       "      <th>ML_algorithm</th>\n",
       "      <th>Count</th>\n",
       "      <th>First_Paper</th>\n",
       "      <th>Latest_paper</th>\n",
       "    </tr>\n",
       "  </thead>\n",
       "  <tbody>\n",
       "    <tr>\n",
       "      <th>0</th>\n",
       "      <td>DNA sequencing</td>\n",
       "      <td>189</td>\n",
       "      <td>1988 Feb</td>\n",
       "      <td>2019 Apr 29</td>\n",
       "    </tr>\n",
       "    <tr>\n",
       "      <th>1</th>\n",
       "      <td>PCR</td>\n",
       "      <td>4303</td>\n",
       "      <td>1983 Dec</td>\n",
       "      <td>2019 May 2</td>\n",
       "    </tr>\n",
       "    <tr>\n",
       "      <th>2</th>\n",
       "      <td>ELISA</td>\n",
       "      <td>1779</td>\n",
       "      <td>1976</td>\n",
       "      <td>2019 May 1</td>\n",
       "    </tr>\n",
       "    <tr>\n",
       "      <th>3</th>\n",
       "      <td>microarray</td>\n",
       "      <td>357</td>\n",
       "      <td>2000 Jan</td>\n",
       "      <td>2019 Mar 27</td>\n",
       "    </tr>\n",
       "    <tr>\n",
       "      <th>4</th>\n",
       "      <td>Sanger sequencing</td>\n",
       "      <td>29</td>\n",
       "      <td>2012 May</td>\n",
       "      <td>2019 Apr 18</td>\n",
       "    </tr>\n",
       "    <tr>\n",
       "      <th>5</th>\n",
       "      <td>Nanopore sequencing</td>\n",
       "      <td>1</td>\n",
       "      <td>2018 May 29</td>\n",
       "      <td>2018 May 29</td>\n",
       "    </tr>\n",
       "    <tr>\n",
       "      <th>6</th>\n",
       "      <td>GWAS</td>\n",
       "      <td>32</td>\n",
       "      <td>2008 Jul 1</td>\n",
       "      <td>2018 Dec 4</td>\n",
       "    </tr>\n",
       "  </tbody>\n",
       "</table>\n",
       "</div>"
      ],
      "text/plain": [
       "          ML_algorithm Count  First_Paper Latest_paper\n",
       "0       DNA sequencing   189     1988 Feb  2019 Apr 29\n",
       "1                  PCR  4303     1983 Dec   2019 May 2\n",
       "2                ELISA  1779         1976   2019 May 1\n",
       "3           microarray   357     2000 Jan  2019 Mar 27\n",
       "4    Sanger sequencing    29     2012 May  2019 Apr 18\n",
       "5  Nanopore sequencing     1  2018 May 29  2018 May 29\n",
       "6                 GWAS    32   2008 Jul 1   2018 Dec 4"
      ]
     },
     "execution_count": 9,
     "metadata": {},
     "output_type": "execute_result"
    }
   ],
   "source": [
    "other_tech_malaria = get_count(\"malaria\",other_tech)\n",
    "other_tech_malaria"
   ]
  },
  {
   "cell_type": "code",
   "execution_count": 10,
   "metadata": {},
   "outputs": [
    {
     "data": {
      "text/html": [
       "<div>\n",
       "<style scoped>\n",
       "    .dataframe tbody tr th:only-of-type {\n",
       "        vertical-align: middle;\n",
       "    }\n",
       "\n",
       "    .dataframe tbody tr th {\n",
       "        vertical-align: top;\n",
       "    }\n",
       "\n",
       "    .dataframe thead th {\n",
       "        text-align: right;\n",
       "    }\n",
       "</style>\n",
       "<table border=\"1\" class=\"dataframe\">\n",
       "  <thead>\n",
       "    <tr style=\"text-align: right;\">\n",
       "      <th></th>\n",
       "      <th>ML_algorithm</th>\n",
       "      <th>Count</th>\n",
       "      <th>First_Paper</th>\n",
       "      <th>Latest_paper</th>\n",
       "    </tr>\n",
       "  </thead>\n",
       "  <tbody>\n",
       "    <tr>\n",
       "      <th>0</th>\n",
       "      <td>machine learning</td>\n",
       "      <td>105</td>\n",
       "      <td>2002 Feb</td>\n",
       "      <td>2019 Apr 12</td>\n",
       "    </tr>\n",
       "    <tr>\n",
       "      <th>1</th>\n",
       "      <td>neural networks</td>\n",
       "      <td>77</td>\n",
       "      <td>1994 Mar</td>\n",
       "      <td>2019 Apr 12</td>\n",
       "    </tr>\n",
       "    <tr>\n",
       "      <th>2</th>\n",
       "      <td>support vector machine</td>\n",
       "      <td>49</td>\n",
       "      <td>2006 Jan-Feb</td>\n",
       "      <td>2019</td>\n",
       "    </tr>\n",
       "    <tr>\n",
       "      <th>3</th>\n",
       "      <td>k-nearest neighbor</td>\n",
       "      <td>6</td>\n",
       "      <td>1994 Mar</td>\n",
       "      <td>2015 Dec</td>\n",
       "    </tr>\n",
       "    <tr>\n",
       "      <th>4</th>\n",
       "      <td>linear regression</td>\n",
       "      <td>298</td>\n",
       "      <td>1976</td>\n",
       "      <td>2019 Apr 22</td>\n",
       "    </tr>\n",
       "    <tr>\n",
       "      <th>5</th>\n",
       "      <td>random forests</td>\n",
       "      <td>3</td>\n",
       "      <td>2004 Sep 28</td>\n",
       "      <td>2016 Nov 1</td>\n",
       "    </tr>\n",
       "    <tr>\n",
       "      <th>6</th>\n",
       "      <td>logistic regression</td>\n",
       "      <td>2311</td>\n",
       "      <td>1981 Jul</td>\n",
       "      <td>2019 Apr 12</td>\n",
       "    </tr>\n",
       "    <tr>\n",
       "      <th>7</th>\n",
       "      <td>convolutional neural networks</td>\n",
       "      <td>8</td>\n",
       "      <td>2017 Aug</td>\n",
       "      <td>2019 Apr 18</td>\n",
       "    </tr>\n",
       "    <tr>\n",
       "      <th>8</th>\n",
       "      <td>bayesian networks</td>\n",
       "      <td>3</td>\n",
       "      <td>2004 Mar</td>\n",
       "      <td>2014</td>\n",
       "    </tr>\n",
       "  </tbody>\n",
       "</table>\n",
       "</div>"
      ],
      "text/plain": [
       "                    ML_algorithm Count   First_Paper Latest_paper\n",
       "0               machine learning   105      2002 Feb  2019 Apr 12\n",
       "1                neural networks    77      1994 Mar  2019 Apr 12\n",
       "2         support vector machine    49  2006 Jan-Feb         2019\n",
       "3             k-nearest neighbor     6      1994 Mar     2015 Dec\n",
       "4              linear regression   298          1976  2019 Apr 22\n",
       "5                 random forests     3   2004 Sep 28   2016 Nov 1\n",
       "6            logistic regression  2311      1981 Jul  2019 Apr 12\n",
       "7  convolutional neural networks     8      2017 Aug  2019 Apr 18\n",
       "8             bayesian networks      3      2004 Mar         2014"
      ]
     },
     "execution_count": 10,
     "metadata": {},
     "output_type": "execute_result"
    }
   ],
   "source": [
    "tuberculosis_df = get_count(\"tuberculosis\",ml)\n",
    "tuberculosis_df"
   ]
  },
  {
   "cell_type": "code",
   "execution_count": 11,
   "metadata": {},
   "outputs": [
    {
     "data": {
      "text/html": [
       "<div>\n",
       "<style scoped>\n",
       "    .dataframe tbody tr th:only-of-type {\n",
       "        vertical-align: middle;\n",
       "    }\n",
       "\n",
       "    .dataframe tbody tr th {\n",
       "        vertical-align: top;\n",
       "    }\n",
       "\n",
       "    .dataframe thead th {\n",
       "        text-align: right;\n",
       "    }\n",
       "</style>\n",
       "<table border=\"1\" class=\"dataframe\">\n",
       "  <thead>\n",
       "    <tr style=\"text-align: right;\">\n",
       "      <th></th>\n",
       "      <th>ML_algorithm</th>\n",
       "      <th>Count</th>\n",
       "      <th>First_Paper</th>\n",
       "      <th>Latest_paper</th>\n",
       "    </tr>\n",
       "  </thead>\n",
       "  <tbody>\n",
       "    <tr>\n",
       "      <th>0</th>\n",
       "      <td>DNA sequencing</td>\n",
       "      <td>506</td>\n",
       "      <td>1988 Apr</td>\n",
       "      <td>2019 Mar</td>\n",
       "    </tr>\n",
       "    <tr>\n",
       "      <th>1</th>\n",
       "      <td>PCR</td>\n",
       "      <td>5746</td>\n",
       "      <td>1990-1991</td>\n",
       "      <td>2019 May 1</td>\n",
       "    </tr>\n",
       "    <tr>\n",
       "      <th>2</th>\n",
       "      <td>ELISA</td>\n",
       "      <td>2252</td>\n",
       "      <td>1976 Mar</td>\n",
       "      <td>2019 Apr 23</td>\n",
       "    </tr>\n",
       "    <tr>\n",
       "      <th>3</th>\n",
       "      <td>microarray</td>\n",
       "      <td>540</td>\n",
       "      <td>1950 Nov 18</td>\n",
       "      <td>2017 Mar</td>\n",
       "    </tr>\n",
       "    <tr>\n",
       "      <th>4</th>\n",
       "      <td>Sanger sequencing</td>\n",
       "      <td>61</td>\n",
       "      <td>2010 Jul</td>\n",
       "      <td>2019</td>\n",
       "    </tr>\n",
       "    <tr>\n",
       "      <th>5</th>\n",
       "      <td>Nanopore sequencing</td>\n",
       "      <td>3</td>\n",
       "      <td>2015 Dec 21</td>\n",
       "      <td>2016 Sep</td>\n",
       "    </tr>\n",
       "    <tr>\n",
       "      <th>6</th>\n",
       "      <td>GWAS</td>\n",
       "      <td>47</td>\n",
       "      <td>2011 Mar</td>\n",
       "      <td>2019 Apr 18</td>\n",
       "    </tr>\n",
       "  </tbody>\n",
       "</table>\n",
       "</div>"
      ],
      "text/plain": [
       "          ML_algorithm Count  First_Paper Latest_paper\n",
       "0       DNA sequencing   506     1988 Apr     2019 Mar\n",
       "1                  PCR  5746    1990-1991   2019 May 1\n",
       "2                ELISA  2252     1976 Mar  2019 Apr 23\n",
       "3           microarray   540  1950 Nov 18     2017 Mar\n",
       "4    Sanger sequencing    61     2010 Jul         2019\n",
       "5  Nanopore sequencing     3  2015 Dec 21     2016 Sep\n",
       "6                 GWAS    47     2011 Mar  2019 Apr 18"
      ]
     },
     "execution_count": 11,
     "metadata": {},
     "output_type": "execute_result"
    }
   ],
   "source": [
    "other_tech_tb = get_count(\"tuberculosis\",other_tech)\n",
    "other_tech_tb"
   ]
  },
  {
   "cell_type": "markdown",
   "metadata": {},
   "source": [
    "Now we can clean the dataframes to include delay details and the year of First Publication"
   ]
  },
  {
   "cell_type": "code",
   "execution_count": 12,
   "metadata": {},
   "outputs": [],
   "source": [
    "def clean_df(df,disease):\n",
    "    df['date'] = pd.to_datetime(df['First_Paper'], errors='coerce')\n",
    "    df['year_%s' % disease] = df.date.dt.year\n",
    "    df  = df[['ML_algorithm','Count','year_%s' % disease]]\n",
    "    df.columns = ['ML_algorithm','%s_Count' % disease,'year_%s' % disease]\n",
    "    \n",
    "    return df"
   ]
  },
  {
   "cell_type": "code",
   "execution_count": 13,
   "metadata": {},
   "outputs": [
    {
     "data": {
      "text/html": [
       "<div>\n",
       "<style scoped>\n",
       "    .dataframe tbody tr th:only-of-type {\n",
       "        vertical-align: middle;\n",
       "    }\n",
       "\n",
       "    .dataframe tbody tr th {\n",
       "        vertical-align: top;\n",
       "    }\n",
       "\n",
       "    .dataframe thead th {\n",
       "        text-align: right;\n",
       "    }\n",
       "</style>\n",
       "<table border=\"1\" class=\"dataframe\">\n",
       "  <thead>\n",
       "    <tr style=\"text-align: right;\">\n",
       "      <th></th>\n",
       "      <th>ML_algorithm</th>\n",
       "      <th>malaria_Count</th>\n",
       "      <th>year_malaria</th>\n",
       "    </tr>\n",
       "  </thead>\n",
       "  <tbody>\n",
       "    <tr>\n",
       "      <th>0</th>\n",
       "      <td>machine learning</td>\n",
       "      <td>75</td>\n",
       "      <td>2008</td>\n",
       "    </tr>\n",
       "    <tr>\n",
       "      <th>1</th>\n",
       "      <td>neural networks</td>\n",
       "      <td>31</td>\n",
       "      <td>2001</td>\n",
       "    </tr>\n",
       "    <tr>\n",
       "      <th>2</th>\n",
       "      <td>support vector machine</td>\n",
       "      <td>21</td>\n",
       "      <td>2008</td>\n",
       "    </tr>\n",
       "    <tr>\n",
       "      <th>3</th>\n",
       "      <td>k-nearest neighbor</td>\n",
       "      <td>7</td>\n",
       "      <td>2010</td>\n",
       "    </tr>\n",
       "    <tr>\n",
       "      <th>4</th>\n",
       "      <td>linear regression</td>\n",
       "      <td>220</td>\n",
       "      <td>1983</td>\n",
       "    </tr>\n",
       "    <tr>\n",
       "      <th>5</th>\n",
       "      <td>random forests</td>\n",
       "      <td>6</td>\n",
       "      <td>2013</td>\n",
       "    </tr>\n",
       "    <tr>\n",
       "      <th>6</th>\n",
       "      <td>logistic regression</td>\n",
       "      <td>1022</td>\n",
       "      <td>1987</td>\n",
       "    </tr>\n",
       "    <tr>\n",
       "      <th>7</th>\n",
       "      <td>convolutional neural networks</td>\n",
       "      <td>3</td>\n",
       "      <td>2018</td>\n",
       "    </tr>\n",
       "    <tr>\n",
       "      <th>8</th>\n",
       "      <td>bayesian networks</td>\n",
       "      <td>3</td>\n",
       "      <td>2015</td>\n",
       "    </tr>\n",
       "  </tbody>\n",
       "</table>\n",
       "</div>"
      ],
      "text/plain": [
       "                    ML_algorithm malaria_Count  year_malaria\n",
       "0               machine learning            75          2008\n",
       "1                neural networks            31          2001\n",
       "2         support vector machine            21          2008\n",
       "3             k-nearest neighbor             7          2010\n",
       "4              linear regression           220          1983\n",
       "5                 random forests             6          2013\n",
       "6            logistic regression          1022          1987\n",
       "7  convolutional neural networks             3          2018\n",
       "8             bayesian networks              3          2015"
      ]
     },
     "execution_count": 13,
     "metadata": {},
     "output_type": "execute_result"
    }
   ],
   "source": [
    "malaria_clean = clean_df(malaria_df,'malaria')\n",
    "malaria_clean"
   ]
  },
  {
   "cell_type": "code",
   "execution_count": 14,
   "metadata": {},
   "outputs": [
    {
     "data": {
      "text/html": [
       "<div>\n",
       "<style scoped>\n",
       "    .dataframe tbody tr th:only-of-type {\n",
       "        vertical-align: middle;\n",
       "    }\n",
       "\n",
       "    .dataframe tbody tr th {\n",
       "        vertical-align: top;\n",
       "    }\n",
       "\n",
       "    .dataframe thead th {\n",
       "        text-align: right;\n",
       "    }\n",
       "</style>\n",
       "<table border=\"1\" class=\"dataframe\">\n",
       "  <thead>\n",
       "    <tr style=\"text-align: right;\">\n",
       "      <th></th>\n",
       "      <th>ML_algorithm</th>\n",
       "      <th>cancer_Count</th>\n",
       "      <th>year_cancer</th>\n",
       "    </tr>\n",
       "  </thead>\n",
       "  <tbody>\n",
       "    <tr>\n",
       "      <th>0</th>\n",
       "      <td>machine learning</td>\n",
       "      <td>3121</td>\n",
       "      <td>1990</td>\n",
       "    </tr>\n",
       "    <tr>\n",
       "      <th>1</th>\n",
       "      <td>neural networks</td>\n",
       "      <td>2499</td>\n",
       "      <td>1989</td>\n",
       "    </tr>\n",
       "    <tr>\n",
       "      <th>2</th>\n",
       "      <td>support vector machine</td>\n",
       "      <td>1976</td>\n",
       "      <td>2000</td>\n",
       "    </tr>\n",
       "    <tr>\n",
       "      <th>3</th>\n",
       "      <td>k-nearest neighbor</td>\n",
       "      <td>292</td>\n",
       "      <td>1992</td>\n",
       "    </tr>\n",
       "    <tr>\n",
       "      <th>4</th>\n",
       "      <td>linear regression</td>\n",
       "      <td>7912</td>\n",
       "      <td>1975</td>\n",
       "    </tr>\n",
       "    <tr>\n",
       "      <th>5</th>\n",
       "      <td>random forests</td>\n",
       "      <td>214</td>\n",
       "      <td>2003</td>\n",
       "    </tr>\n",
       "    <tr>\n",
       "      <th>6</th>\n",
       "      <td>logistic regression</td>\n",
       "      <td>41445</td>\n",
       "      <td>1976</td>\n",
       "    </tr>\n",
       "    <tr>\n",
       "      <th>7</th>\n",
       "      <td>convolutional neural networks</td>\n",
       "      <td>271</td>\n",
       "      <td>2013</td>\n",
       "    </tr>\n",
       "    <tr>\n",
       "      <th>8</th>\n",
       "      <td>bayesian networks</td>\n",
       "      <td>127</td>\n",
       "      <td>1995</td>\n",
       "    </tr>\n",
       "  </tbody>\n",
       "</table>\n",
       "</div>"
      ],
      "text/plain": [
       "                    ML_algorithm cancer_Count  year_cancer\n",
       "0               machine learning         3121         1990\n",
       "1                neural networks         2499         1989\n",
       "2         support vector machine         1976         2000\n",
       "3             k-nearest neighbor          292         1992\n",
       "4              linear regression         7912         1975\n",
       "5                 random forests          214         2003\n",
       "6            logistic regression        41445         1976\n",
       "7  convolutional neural networks          271         2013\n",
       "8             bayesian networks           127         1995"
      ]
     },
     "execution_count": 14,
     "metadata": {},
     "output_type": "execute_result"
    }
   ],
   "source": [
    "cancer_clean = clean_df(cancer_df,'cancer')\n",
    "cancer_clean"
   ]
  },
  {
   "cell_type": "code",
   "execution_count": 15,
   "metadata": {},
   "outputs": [],
   "source": [
    "def merge_data(df1,df2,disease1,disease2):\n",
    "    \"\"\"\n",
    "    Ceates a merged dataframe of two diseases being compared\n",
    "    with the delay in tech adoption in years\n",
    "    \"\"\"\n",
    "    marged_data = pd.merge(df1, df2, on='ML_algorithm')\n",
    "    marged_data['delay'] = marged_data['year_%s' % disease2] - marged_data['year_%s' % disease1]\n",
    "    marged_data.set_index('ML_algorithm',inplace=True)\n",
    "    return  marged_data"
   ]
  },
  {
   "cell_type": "code",
   "execution_count": 16,
   "metadata": {},
   "outputs": [],
   "source": [
    "malaria_cancer_ml = merge_data(cancer_clean,malaria_clean,\"cancer\",\"malaria\")"
   ]
  },
  {
   "cell_type": "code",
   "execution_count": 17,
   "metadata": {},
   "outputs": [
    {
     "data": {
      "text/plain": [
       "12.222222222222221"
      ]
     },
     "execution_count": 17,
     "metadata": {},
     "output_type": "execute_result"
    }
   ],
   "source": [
    "malaria_cancer_ml.delay.mean()"
   ]
  },
  {
   "cell_type": "code",
   "execution_count": 18,
   "metadata": {},
   "outputs": [],
   "source": [
    "other_cancer = clean_df(other_tech_cancer,'cancer')\n",
    "other_malaria = clean_df(other_tech_malaria,'malaria')"
   ]
  },
  {
   "cell_type": "code",
   "execution_count": 19,
   "metadata": {},
   "outputs": [],
   "source": [
    "malaria_cancer_other = merge_data(other_cancer,other_malaria,\"cancer\",\"malaria\")"
   ]
  },
  {
   "cell_type": "code",
   "execution_count": 20,
   "metadata": {},
   "outputs": [
    {
     "data": {
      "text/html": [
       "<div>\n",
       "<style scoped>\n",
       "    .dataframe tbody tr th:only-of-type {\n",
       "        vertical-align: middle;\n",
       "    }\n",
       "\n",
       "    .dataframe tbody tr th {\n",
       "        vertical-align: top;\n",
       "    }\n",
       "\n",
       "    .dataframe thead th {\n",
       "        text-align: right;\n",
       "    }\n",
       "</style>\n",
       "<table border=\"1\" class=\"dataframe\">\n",
       "  <thead>\n",
       "    <tr style=\"text-align: right;\">\n",
       "      <th></th>\n",
       "      <th>cancer_Count</th>\n",
       "      <th>year_cancer</th>\n",
       "      <th>malaria_Count</th>\n",
       "      <th>year_malaria</th>\n",
       "      <th>delay</th>\n",
       "    </tr>\n",
       "    <tr>\n",
       "      <th>ML_algorithm</th>\n",
       "      <th></th>\n",
       "      <th></th>\n",
       "      <th></th>\n",
       "      <th></th>\n",
       "      <th></th>\n",
       "    </tr>\n",
       "  </thead>\n",
       "  <tbody>\n",
       "    <tr>\n",
       "      <th>DNA sequencing</th>\n",
       "      <td>5553</td>\n",
       "      <td>1978</td>\n",
       "      <td>189</td>\n",
       "      <td>1988</td>\n",
       "      <td>10</td>\n",
       "    </tr>\n",
       "    <tr>\n",
       "      <th>PCR</th>\n",
       "      <td>105318</td>\n",
       "      <td>1978</td>\n",
       "      <td>4303</td>\n",
       "      <td>1983</td>\n",
       "      <td>5</td>\n",
       "    </tr>\n",
       "    <tr>\n",
       "      <th>ELISA</th>\n",
       "      <td>20679</td>\n",
       "      <td>1978</td>\n",
       "      <td>1779</td>\n",
       "      <td>1976</td>\n",
       "      <td>-2</td>\n",
       "    </tr>\n",
       "    <tr>\n",
       "      <th>microarray</th>\n",
       "      <td>32592</td>\n",
       "      <td>1953</td>\n",
       "      <td>357</td>\n",
       "      <td>2000</td>\n",
       "      <td>47</td>\n",
       "    </tr>\n",
       "    <tr>\n",
       "      <th>Sanger sequencing</th>\n",
       "      <td>1954</td>\n",
       "      <td>1995</td>\n",
       "      <td>29</td>\n",
       "      <td>2012</td>\n",
       "      <td>17</td>\n",
       "    </tr>\n",
       "    <tr>\n",
       "      <th>Nanopore sequencing</th>\n",
       "      <td>32</td>\n",
       "      <td>2013</td>\n",
       "      <td>1</td>\n",
       "      <td>2018</td>\n",
       "      <td>5</td>\n",
       "    </tr>\n",
       "    <tr>\n",
       "      <th>GWAS</th>\n",
       "      <td>2229</td>\n",
       "      <td>1997</td>\n",
       "      <td>32</td>\n",
       "      <td>2008</td>\n",
       "      <td>11</td>\n",
       "    </tr>\n",
       "  </tbody>\n",
       "</table>\n",
       "</div>"
      ],
      "text/plain": [
       "                    cancer_Count  year_cancer malaria_Count  year_malaria  \\\n",
       "ML_algorithm                                                                \n",
       "DNA sequencing              5553         1978           189          1988   \n",
       "PCR                       105318         1978          4303          1983   \n",
       "ELISA                      20679         1978          1779          1976   \n",
       "microarray                 32592         1953           357          2000   \n",
       "Sanger sequencing           1954         1995            29          2012   \n",
       "Nanopore sequencing           32         2013             1          2018   \n",
       "GWAS                        2229         1997            32          2008   \n",
       "\n",
       "                     delay  \n",
       "ML_algorithm                \n",
       "DNA sequencing          10  \n",
       "PCR                      5  \n",
       "ELISA                   -2  \n",
       "microarray              47  \n",
       "Sanger sequencing       17  \n",
       "Nanopore sequencing      5  \n",
       "GWAS                    11  "
      ]
     },
     "execution_count": 20,
     "metadata": {},
     "output_type": "execute_result"
    }
   ],
   "source": [
    "malaria_cancer_other"
   ]
  },
  {
   "cell_type": "code",
   "execution_count": 21,
   "metadata": {},
   "outputs": [
    {
     "data": {
      "text/plain": [
       "13.285714285714286"
      ]
     },
     "execution_count": 21,
     "metadata": {},
     "output_type": "execute_result"
    }
   ],
   "source": [
    "malaria_cancer_other.delay.mean()"
   ]
  },
  {
   "cell_type": "markdown",
   "metadata": {},
   "source": [
    "The total number of papers in PubMed mentioning cancer are 3836105"
   ]
  },
  {
   "cell_type": "code",
   "execution_count": 22,
   "metadata": {},
   "outputs": [
    {
     "data": {
      "text/plain": [
       "3853737"
      ]
     },
     "execution_count": 22,
     "metadata": {},
     "output_type": "execute_result"
    }
   ],
   "source": [
    "handle = Entrez.esearch(db = \"pubmed\", retmax=10000000, term=\"cancer\")\n",
    "kenyan_records = Entrez.read(handle)\n",
    "cancer_total = len(kenyan_records[\"IdList\"])\n",
    "cancer_total"
   ]
  },
  {
   "cell_type": "markdown",
   "metadata": {},
   "source": [
    "While for malaria, we have 90885 papers in PubMed"
   ]
  },
  {
   "cell_type": "code",
   "execution_count": 23,
   "metadata": {},
   "outputs": [
    {
     "data": {
      "text/plain": [
       "91246"
      ]
     },
     "execution_count": 23,
     "metadata": {},
     "output_type": "execute_result"
    }
   ],
   "source": [
    "handle = Entrez.esearch(db = \"pubmed\", retmax=100000, term=\"malaria\")\n",
    "kenyan_records = Entrez.read(handle)\n",
    "malaria_total = len(kenyan_records[\"IdList\"])\n",
    "malaria_total"
   ]
  },
  {
   "cell_type": "markdown",
   "metadata": {},
   "source": [
    "### Download paper details for additional analysis\n",
    "With that captured, we can now check for the number of papers published for the popular machine learning algorithms for malaria research. We will use this data to observe the trends in the adoption of various algorithms"
   ]
  },
  {
   "cell_type": "code",
   "execution_count": 24,
   "metadata": {},
   "outputs": [],
   "source": [
    "def get_paper_details(ml,disease):\n",
    "    for machine in ml:\n",
    "        handle = Entrez.esearch(db = \"pubmed\", retmax=100000, term=\"[%s] AND %s\" % (machine,disease))\n",
    "        kenyan_records = Entrez.read(handle)\n",
    "        kenyan_pubids = kenyan_records[\"IdList\"]\n",
    "        write_paper = \"_\".join(machine.split()) +\"_paper.txt\"\n",
    "        Main_df = pd.DataFrame()\n",
    "        for pubid in kenyan_pubids:\n",
    "            #retrieve paper abstracts so that we can extract additional information, like country\n",
    "            #paper_retriever(pubid, \"calebkibet88@gmail.com\", \"Data/%s/abstracts/%s\" % (disease,write_paper.replace('\"','')))\n",
    "            test= Entrez.read(Entrez.esummary(db = \"pubmed\", id = pubid))\n",
    "            df2 = pd.DataFrame(test)\n",
    "            Main_df = pd.concat([Main_df,df2])\n",
    "\n",
    "        Cleaned_Main_df = Main_df[['Id', 'ArticleIds', 'AuthorList', 'DOI' ,\n",
    "               'FullJournalName', 'HasAbstract', 'LastAuthor', 'NlmUniqueID',\n",
    "               'PubDate', 'PubTypeList', 'RecordStatus', 'Source', 'Title']]\n",
    "        out_file = \"_\".join(machine.split())+\".txt\"\n",
    "        Cleaned_Main_df.to_csv(\"Data/%s/metadata/%s\" % (disease,out_file.replace('\"','')), sep='\\t', index=False)\n",
    "    "
   ]
  },
  {
   "cell_type": "code",
   "execution_count": 36,
   "metadata": {},
   "outputs": [],
   "source": [
    "get_paper_details(ml,'malaria')"
   ]
  },
  {
   "cell_type": "code",
   "execution_count": 39,
   "metadata": {},
   "outputs": [],
   "source": [
    "get_paper_details(ml,'cancer')"
   ]
  },
  {
   "cell_type": "markdown",
   "metadata": {},
   "source": [
    "Next, we write a function to retrieve abstract and metadata, which we get to use later to extract important information. "
   ]
  },
  {
   "cell_type": "code",
   "execution_count": 40,
   "metadata": {},
   "outputs": [],
   "source": [
    "def paper_retriever(pubmedid, email, output_file):\n",
    "    '''The paper retriever function takes your email which uses the same name email as an \n",
    "    argument, pubmedid you can get this from the previous function, searchterm take the NCBI type of query as a string\n",
    "    and renamefile just changing your file names to avoid confusion.\n",
    "    \n",
    "    Return the full paper depending on if it's open access or not.\n",
    "    '''\n",
    "    \n",
    "    # Enter your own email\n",
    "    Entrez.email = email\n",
    "    \n",
    "    # the method efetch does and fetches the information you need brings it back to your Ipython session\n",
    "    handle2 = Entrez.efetch(db=\"pubmed\", id = pubmedid, rettype=\"gb\",retmode=\"text\")\n",
    "    \n",
    "    # using cell magic in a function in the jupyter notebook\n",
    "    with open(output_file, 'a') as paper_data:\n",
    "        paper_data.write(handle2.read())\n",
    "\n"
   ]
  },
  {
   "cell_type": "code",
   "execution_count": 41,
   "metadata": {},
   "outputs": [],
   "source": [
    "def parseAbstracts(infile,outfile):\n",
    "    with open(outfile,'w') as clean:\n",
    "        with open(infile) as abstract:\n",
    "            tag = False\n",
    "            for line in abstract:\n",
    "                if line[0].isdigit() and (\n",
    "                    line[1:3] == '. ' or line[2:4] == '. ' or line[3:5] == '. '):\n",
    "                    if tag:\n",
    "                        continue\n",
    "                    else:\n",
    "                        try:\n",
    "                            date = line.replace(\n",
    "                                ';','.').replace(':','.').split('.')[2]\n",
    "                            journal = line.replace(\n",
    "                                ';','.').replace(':','.').split('.')[1]\n",
    "                            tag = True\n",
    "                        except IndexError:\n",
    "                            print(line)\n",
    "                            tag = False\n",
    "                if tag and line.startswith('PMID:'):\n",
    "                    pubid = line.split()[1]\n",
    "                    tag=False\n",
    "                    clean.write('%s\\t%s\\t%s\\n' % (pubid, journal, date.strip()))"
   ]
  },
  {
   "cell_type": "markdown",
   "metadata": {},
   "source": [
    "### Fetch Country details from Author Information\n",
    "In this section, we are interested in extracting the author country information. We want to understand who is driving the adoption of machine learning approaches in malaria research. We use the affiliation of the first author or the most common country. First, we install `geograpy` using: \n",
    "\n",
    "`python3 -m pip install git+https://github.com/reach2ashish/geograpy.git`\n",
    "\n",
    "However, python3 version of this tool does not work well, it seems to extract incorrect details. We then opted for an alternative, `pycountry`, which we use to check if a country name exists in the affiliation section of the paper. However, this tool does not consider abbreviations and alternative names. We have to manually test for UK and USA. "
   ]
  },
  {
   "cell_type": "code",
   "execution_count": 27,
   "metadata": {},
   "outputs": [],
   "source": [
    "#import geograpy"
   ]
  },
  {
   "cell_type": "markdown",
   "metadata": {},
   "source": [
    "First we need to dowload the required nltk data"
   ]
  },
  {
   "cell_type": "code",
   "execution_count": 28,
   "metadata": {},
   "outputs": [],
   "source": [
    "#import nltk"
   ]
  },
  {
   "cell_type": "code",
   "execution_count": 29,
   "metadata": {},
   "outputs": [
    {
     "name": "stdout",
     "output_type": "stream",
     "text": [
      "[nltk_data] Downloading package punkt to /home/user/nltk_data...\n",
      "[nltk_data]   Unzipping tokenizers/punkt.zip.\n",
      "[nltk_data] Downloading package averaged_perceptron_tagger to\n",
      "[nltk_data]     /home/user/nltk_data...\n",
      "[nltk_data]   Unzipping taggers/averaged_perceptron_tagger.zip.\n",
      "[nltk_data] Downloading package maxent_ne_chunker to\n",
      "[nltk_data]     /home/user/nltk_data...\n",
      "[nltk_data]   Unzipping chunkers/maxent_ne_chunker.zip.\n",
      "[nltk_data] Downloading package words to /home/user/nltk_data...\n",
      "[nltk_data]   Unzipping corpora/words.zip.\n"
     ]
    },
    {
     "data": {
      "text/plain": [
       "True"
      ]
     },
     "execution_count": 29,
     "metadata": {},
     "output_type": "execute_result"
    }
   ],
   "source": [
    "nltk.download('punkt')\n",
    "nltk.download('averaged_perceptron_tagger')\n",
    "nltk.download('maxent_ne_chunker')\n",
    "nltk.download('words')"
   ]
  },
  {
   "cell_type": "markdown",
   "metadata": {},
   "source": [
    "Here is an the pycountry tool in action. "
   ]
  },
  {
   "cell_type": "code",
   "execution_count": 30,
   "metadata": {
    "scrolled": true
   },
   "outputs": [
    {
     "name": "stdout",
     "output_type": "stream",
     "text": [
      "United Kingdom\n",
      "United States\n"
     ]
    }
   ],
   "source": [
    "import pycountry\n",
    "texts = \"United States (New York), United Kingdom (London)\"\n",
    "for country in pycountry.countries:\n",
    "    if country.name.lower() in texts.lower():\n",
    "        print(country.name)"
   ]
  },
  {
   "cell_type": "code",
   "execution_count": 31,
   "metadata": {},
   "outputs": [
    {
     "data": {
      "text/plain": [
       "['US Miscellaneous Pacific Islands',\n",
       " 'New York',\n",
       " 'United Kingdom',\n",
       " 'London',\n",
       " 'United States',\n",
       " 'Canada',\n",
       " 'South Africa']"
      ]
     },
     "execution_count": 31,
     "metadata": {},
     "output_type": "execute_result"
    }
   ],
   "source": [
    "p=geograpy.get_place_context(text=texts)\n",
    "p.countries"
   ]
  },
  {
   "cell_type": "markdown",
   "metadata": {},
   "source": [
    "As can be observed above, the geograpy tool does not give the correct information. Hence the need for an alternative. "
   ]
  },
  {
   "cell_type": "markdown",
   "metadata": {},
   "source": [
    "## Extract country details from paper metadata\n",
    "\n",
    "With the downloaded data, we can attempt to extract country details from the Author information using the pycountry tool. For each article, we pass the author information to the algorithm which creates a list of all the countries in the text, in order of appearance in the text. We can assume the first will host information of the first author, where available. IEven if that's not the case, we expect the first item will be representative paper country affiliation. "
   ]
  },
  {
   "cell_type": "code",
   "execution_count": 211,
   "metadata": {
    "scrolled": true
   },
   "outputs": [
    {
     "name": "stdout",
     "output_type": "stream",
     "text": [
      "\"machine learning\"\n",
      "\"neural networks\"\n",
      "\"support vector machine\"\n",
      "\"k-nearest neighbor\"\n",
      "\"linear regression\"\n",
      "\"random forests\"\n",
      "\"logistic regression\"\n",
      "\"convolutional neural networks\"\n",
      "\"bayesian networks \"\n"
     ]
    }
   ],
   "source": [
    "for machine in ml:\n",
    "    disease = 'malaria'\n",
    "    nations = \"_\".join(machine.split()) +\"_country.txt\"\n",
    "    write_paper = \"_\".join(machine.split()) +\"_paper.txt\"\n",
    "    print(machine)\n",
    "    \n",
    "    with open(\"Data/%s/country/%s\" % (disease,nations.replace('\"','')),'w') as nation:\n",
    "        with open(\"Data/%s/abstracts/%s\" % (disease,write_paper.replace('\"',''))) as abstract:\n",
    "            tag = False\n",
    "            search_text = \"\"\n",
    "            for line in abstract:\n",
    "                if line.startswith(\"Author information:\"):\n",
    "                    tag = True\n",
    "                if tag:\n",
    "                    if line != \"\\n\":\n",
    "                        search_text = search_text + line\n",
    "                    else:\n",
    "                        #print(search_text)\n",
    "                        tag = False\n",
    "                        countries = []\n",
    "                        for country in pycountry.countries:\n",
    "                            if country.name.lower() in search_text.lower():\n",
    "                                countries.append(country.name)\n",
    "                        if \"usa\" in search_text.lower():\n",
    "                            countries.append(\"United States\")\n",
    "                        if \"UK\" in search_text:\n",
    "                            countries.append(\"United Kingdom\")\n",
    "                        if len(countries) == 0:\n",
    "                            countries.append(\"Missing\")\n",
    "                        #print(countries)\n",
    "                        search_text = \"\"\n",
    "                        #print(countries[0],end=\"\\t\")\n",
    "                        #print(countries)\n",
    "                        nation.write(countries[0]+\"\\t\")\n",
    "                if line.startswith('PMID:'):\n",
    "                    pubid = line.split()[1]\n",
    "                    nation.write(pubid+\"\\n\")\n",
    "                    #print(pubid)\n",
    "                \n",
    "            #print(pubid,country)\n"
   ]
  },
  {
   "cell_type": "code",
   "execution_count": 213,
   "metadata": {},
   "outputs": [],
   "source": [
    "c = pd.read_table('countries.txt')"
   ]
  },
  {
   "cell_type": "code",
   "execution_count": 214,
   "metadata": {},
   "outputs": [
    {
     "data": {
      "text/plain": [
       "<seaborn.axisgrid.FacetGrid at 0x7f457beafc88>"
      ]
     },
     "execution_count": 214,
     "metadata": {},
     "output_type": "execute_result"
    },
    {
     "data": {
      "image/png": "[encoded data removed]",
      "text/plain": [
       "<Figure size 649.25x360 with 1 Axes>"
      ]
     },
     "metadata": {},
     "output_type": "display_data"
    }
   ],
   "source": [
    "g = sns.factorplot(x=\"Country\", kind=\"count\", hue='Continent', data=c, orient='v', size=5, aspect=1.5,dodge=False)\n",
    "\n",
    "g.set_xticklabels(rotation=90)"
   ]
  },
  {
   "cell_type": "code",
   "execution_count": 215,
   "metadata": {},
   "outputs": [],
   "source": [
    "g.savefig('Plots/Country_continent.png')"
   ]
  },
  {
   "cell_type": "markdown",
   "metadata": {},
   "source": [
    "From the above, we observe that lest basic machine learning techniques are widely used in malaria research, they are also being used by African researchers. Clearly, linear and logistic regression are widely used for identifying relationships between multiple factors for categorical and continuous variables, respectively. "
   ]
  },
  {
   "cell_type": "code",
   "execution_count": 45,
   "metadata": {},
   "outputs": [],
   "source": [
    "def convertDate(data):\n",
    "    '''\n",
    "    Given a dataframe, convert to date time and separate\n",
    "    the date columns\n",
    "    '''\n",
    "    #data.set_index('Id', inplace=True)\n",
    "    #### Conver the date column to date format\n",
    "    data['date'] = pd.to_datetime(data['PubDate'], errors='coerce')\n",
    "    data['year'] = data.date.dt.year\n",
    "    data['month'] = data.date.dt.month\n",
    "    ### Save the data in a csv for future re-use\n",
    "    #data.to_csv(outcsv,sep='\\t')\n",
    "    return data"
   ]
  },
  {
   "cell_type": "markdown",
   "metadata": {},
   "source": [
    "### Data Analysis and Visualization\n",
    "\n",
    "Here we perform quick plots to understand trends in machine learning diffusion to malaria research. "
   ]
  },
  {
   "cell_type": "code",
   "execution_count": 222,
   "metadata": {},
   "outputs": [],
   "source": [
    "sns.set(style=\"white\")"
   ]
  },
  {
   "cell_type": "code",
   "execution_count": 285,
   "metadata": {},
   "outputs": [],
   "source": [
    "def plot_counts(machine):\n",
    "    \"\"\"\n",
    "    Function to plot the counts of papers in each yeaar that \n",
    "    mention a machine learning algorithm\n",
    "    \"\"\"\n",
    "    machine = machine.replace('\"','')\n",
    "    out_file = \"_\".join(machine.split())\n",
    "    path = \"Data/%s/metadata/%s.txt\" % ('malaria',out_file)\n",
    "    data = pd.read_table(path, index_col='Id')\n",
    "    data = convertDate(data)\n",
    "    data.dropna(axis = 0, how ='any',inplace=True)\n",
    "    data.year = data.year.astype(int)\n",
    "    ax = data['year'].value_counts().sort_index().plot(kind='bar',\n",
    "                                     title='      Number of papers talking about malaria and %s per year'% machine,\n",
    "                                                  figsize=(8, 6))\n",
    "    ax.set_ylabel('Number of papers')\n",
    "    ax.set_xlabel('Year')\n",
    "    sns.despine()\n",
    "    plt.savefig('Plots/malaria_%s.png' % out_file)"
   ]
  },
  {
   "cell_type": "code",
   "execution_count": 284,
   "metadata": {},
   "outputs": [
    {
     "data": {
      "image/png": "[encoded data removed]",
      "text/plain": [
       "<Figure size 576x432 with 1 Axes>"
      ]
     },
     "metadata": {},
     "output_type": "display_data"
    }
   ],
   "source": [
    "for machine in ml:\n",
    "    plot_counts(machine)"
   ]
  },
  {
   "cell_type": "code",
   "execution_count": 281,
   "metadata": {},
   "outputs": [
    {
     "data": {
      "image/png": "[encoded data removed]",
      "text/plain": [
       "<Figure size 576x432 with 1 Axes>"
      ]
     },
     "metadata": {},
     "output_type": "display_data"
    }
   ],
   "source": [
    "machine = \"linear regression\"\n",
    "plot_counts(machine)"
   ]
  },
  {
   "cell_type": "markdown",
   "metadata": {},
   "source": [
    "### Support vector machines"
   ]
  },
  {
   "cell_type": "code",
   "execution_count": 287,
   "metadata": {},
   "outputs": [
    {
     "data": {
      "image/png": "[encoded data removed]",
      "text/plain": [
       "<Figure size 576x432 with 1 Axes>"
      ]
     },
     "metadata": {},
     "output_type": "display_data"
    }
   ],
   "source": [
    "machine = \"support vector machine\"\n",
    "plot_counts(machine)"
   ]
  },
  {
   "cell_type": "markdown",
   "metadata": {},
   "source": [
    "### Neural networks"
   ]
  },
  {
   "cell_type": "code",
   "execution_count": 283,
   "metadata": {},
   "outputs": [
    {
     "data": {
      "image/png": "[encoded data removed]",
      "text/plain": [
       "<Figure size 576x432 with 1 Axes>"
      ]
     },
     "metadata": {},
     "output_type": "display_data"
    }
   ],
   "source": [
    "machine = \"neural networks\"\n",
    "plot_counts(machine)"
   ]
  },
  {
   "cell_type": "markdown",
   "metadata": {},
   "source": [
    "The above quick analysis seems to show that the algorithms popularity may have peeked in 2015, but have been on the decline ever since. We need to investigat this further. "
   ]
  }
 ],
 "metadata": {
  "kernelspec": {
   "display_name": "Python 3",
   "language": "python",
   "name": "python3"
  },
  "language_info": {
   "codemirror_mode": {
    "name": "ipython",
    "version": 3
   },
   "file_extension": ".py",
   "mimetype": "text/x-python",
   "name": "python",
   "nbconvert_exporter": "python",
   "pygments_lexer": "ipython3",
   "version": "3.6.8"
  }
 },
 "nbformat": 4,
 "nbformat_minor": 2
}
