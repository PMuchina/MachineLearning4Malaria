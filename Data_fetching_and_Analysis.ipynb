{
 "cells": [
  {
   "cell_type": "markdown",
   "metadata": {},
   "source": [
    "## Knowledge diffusion in malaria from machine learning\n",
    "\n",
    "The plan here is to reproduce everything Siwo did and try and derive some more value from the data, including some visualizations. The main question we seek to answer is:\n",
    "- How well has machine learning been adopted by Biologists?\n",
    "- Compared with other fields, how well has machine learning been adopted?\n",
    "\n",
    "```\n",
    "-normalize paper count for each disease by the number of papers mentioning the disease\n",
    " Pubmed search Feb 15th 2019\n",
    "-Pubmed search- malaria \"machine learning\" shows \n",
    "-Pubmed malaria \"support vector machine\" shows 21 papers, first in 2010\n",
    "-Pubmed cancer \"support vector machine\" shows 1887 papers, first in 2000 i.e. a 10 year lag between when SVMs were used in malaria vs when they were used in cancer. SVMs as classifiers were developed in 1992\n",
    "-Pubmed cancer \"neural networks\" shows 2398 papers, first in 1989\n",
    "-Pubmed malaria \"neural networks\" shows 30 papers, first in 2001, a 10 year lag compared to use of artificial neural networks \n",
    "-Pubmed cancer \"random forests\" shows 751 papers, first in 2003. \n",
    "-Pubmed cancer \"random forests\" shows 14 papers, first in 2012.\n",
    "-Pubmed malaria \"linear regression\" shows 211 papers, first in 1983\n",
    "-Pubmed cancer \"linear regression\" shows 7710 papers, first in 1975\n",
    "-Pubmed malaria \"k-nearest neighbor\" shows 6 papers, first in 2010\n",
    "-Pubmed cancer \"k-nearest neighbor\" shows 285 papers, first in 1992\n",
    "-Pubmed malaria \"logistic regression\" shows 995 papers, first in 1987\n",
    "-Pubmed cancer \"logistic regression\" shows 40392 papers, first in 1976\n",
    "-Pubmed malaria \"convolutional neural networks\"  shows 3 papers, first in 2018\n",
    "--Pubmed cancer \"convolutional neural networks\"  shows 232 papers, first in 2013\n",
    "```\n",
    "\n",
    "How did Siwo obtain the above data? We are observing a slight difference in the data, but that is more or less the trend that can be observed. "
   ]
  },
  {
   "cell_type": "code",
   "execution_count": 1,
   "metadata": {},
   "outputs": [],
   "source": [
    "from Bio import Entrez\n",
    "import pandas as pd\n",
    "\n",
    "import matplotlib\n",
    "matplotlib.use(\"Agg\")\n",
    "import matplotlib.pyplot as plt\n",
    "import pandas as pd\n",
    "%matplotlib inline"
   ]
  },
  {
   "cell_type": "code",
   "execution_count": 2,
   "metadata": {},
   "outputs": [],
   "source": [
    "Entrez.email = \"calebkibet88@gmail.com\""
   ]
  },
  {
   "cell_type": "code",
   "execution_count": 35,
   "metadata": {},
   "outputs": [],
   "source": [
    "ml = ['\"DNA sequencing\"','\"machine learning\"','\"neural networks\"',\n",
    "     '\"support vector machine\"',\n",
    "     '\"k-nearest neighbor\"',\n",
    "     '\"linear regression\"',\n",
    "     '\"random forests\"',\n",
    "     '\"logistic regression\"',\n",
    "     '\"convolutional neural networks\"','\"bayesian networks \"']"
   ]
  },
  {
   "cell_type": "markdown",
   "metadata": {},
   "source": [
    "## Download data Details from PubMed\n",
    "\n",
    "Using the code below, we get to fetch the data we are interested which talks about malaria and the various machine learning models. "
   ]
  },
  {
   "cell_type": "code",
   "execution_count": 36,
   "metadata": {},
   "outputs": [],
   "source": [
    "# make a placeholder to store result from querying \n",
    "def get_count(disease,ml):\n",
    "    '''ml = ['\"DNA sequencing\"','machine learning','neural networks',\n",
    "     'support vector machine',\n",
    "     'k-nearest neighbor',\n",
    "     'linear regression',\n",
    "     'random forests',\n",
    "     'logistic regression',\n",
    "     'convolutional neural networks']'''\n",
    "    \n",
    "    print(\"ML_algorithm\", \"Count\", 'First_Paper','Latest_paper',sep=\"\\t\")\n",
    "    for machine in ml:\n",
    "        handle = Entrez.esearch(db = \"pubmed\", retmax=100000, term=\"[%s] AND %s\" % (machine,disease))\n",
    "        kenyan_records = Entrez.read(handle)\n",
    "        kenyan_pubids = kenyan_records[\"IdList\"]\n",
    "        \n",
    "        handle_1 = Entrez.esummary(db=\"pubmed\", id = kenyan_pubids[0])\n",
    "        handle_2 = Entrez.esummary(db=\"pubmed\", id = kenyan_pubids[-1])\n",
    "        \n",
    "        record_1 = Entrez.read(handle_1)\n",
    "        record_2 = Entrez.read(handle_2)\n",
    "        # see what we are capable of subsetting\n",
    "        \n",
    "        print(machine, len(kenyan_pubids), record_2[0][\"PubDate\"],record_1[0][\"PubDate\"],sep=\"\\t\")\n",
    "        "
   ]
  },
  {
   "cell_type": "code",
   "execution_count": null,
   "metadata": {},
   "outputs": [],
   "source": [
    "tech = ['\"DNA sequencing\"','\"machine learning\"','\"microarray\"']"
   ]
  },
  {
   "cell_type": "code",
   "execution_count": 37,
   "metadata": {},
   "outputs": [
    {
     "name": "stdout",
     "output_type": "stream",
     "text": [
      "ML_algorithm\tCount\tFirst_Paper\tLatest_paper\n",
      "\"DNA sequencing\"\t5533\t1978 Jun 27\t2019 Apr 5\n",
      "\"machine learning\"\t3040\t1990 Oct\t2019 Apr 8\n",
      "\"neural networks\"\t2468\t1989 May\t2019 Apr 8\n",
      "\"support vector machine\"\t1950\t2000 Oct\t2019 Apr 5\n",
      "\"k-nearest neighbor\"\t291\t1992 Jun\t2019 Apr\n",
      "\"linear regression\"\t7850\t1975 Jun\t2019 Mar-Apr\n",
      "\"random forests\"\t212\t2003 Apr 1\t2019 Mar 14\n",
      "\"logistic regression\"\t41109\t1976\t2019 Apr 1\n",
      "\"convolutional neural networks\"\t261\t2013\t2019 Jan\n",
      "\"bayesian networks \"\t124\t1995\t2019 Feb\n"
     ]
    }
   ],
   "source": [
    "get_count(\"cancer\",ml)"
   ]
  },
  {
   "cell_type": "code",
   "execution_count": 38,
   "metadata": {},
   "outputs": [
    {
     "name": "stdout",
     "output_type": "stream",
     "text": [
      "ML_algorithm\tCount\tFirst_Paper\tLatest_paper\n",
      "\"DNA sequencing\"\t186\t1988 Feb\t2019\n",
      "\"machine learning\"\t73\t2008 Apr 16\t2019 Mar 27\n",
      "\"neural networks\"\t31\t2001\t2019 Mar 27\n",
      "\"support vector machine\"\t21\t2008 Feb 15\t2019 Mar\n",
      "\"k-nearest neighbor\"\t7\t2010 Mar\t2019 Apr 1\n",
      "\"linear regression\"\t219\t1983 Dec\t2018 Oct-Dec\n",
      "\"random forests\"\t6\t2013 Feb 11\t2018 Feb 14\n",
      "\"logistic regression\"\t1016\t1987 Oct\t2019 Apr 6\n",
      "\"convolutional neural networks\"\t3\t2018\t2018 Sep 25\n",
      "\"bayesian networks \"\t3\t2015 Aug 28\t2018 Jan\n"
     ]
    }
   ],
   "source": [
    "get_count(\"malaria\",ml)"
   ]
  },
  {
   "cell_type": "markdown",
   "metadata": {},
   "source": [
    "The total number of papers in PubMed mentioning cancer are 3836105"
   ]
  },
  {
   "cell_type": "code",
   "execution_count": 6,
   "metadata": {},
   "outputs": [
    {
     "data": {
      "text/plain": [
       "3836105"
      ]
     },
     "execution_count": 6,
     "metadata": {},
     "output_type": "execute_result"
    }
   ],
   "source": [
    "handle = Entrez.esearch(db = \"pubmed\", retmax=10000000, term=\"cancer\")\n",
    "kenyan_records = Entrez.read(handle)\n",
    "cancer_total = len(kenyan_records[\"IdList\"])\n",
    "cancer_total"
   ]
  },
  {
   "cell_type": "markdown",
   "metadata": {},
   "source": [
    "While for malaria, we have 90885 papers in PubMed"
   ]
  },
  {
   "cell_type": "code",
   "execution_count": 7,
   "metadata": {},
   "outputs": [
    {
     "data": {
      "text/plain": [
       "90885"
      ]
     },
     "execution_count": 7,
     "metadata": {},
     "output_type": "execute_result"
    }
   ],
   "source": [
    "handle = Entrez.esearch(db = \"pubmed\", retmax=100000, term=\"malaria\")\n",
    "kenyan_records = Entrez.read(handle)\n",
    "malaria_total = len(kenyan_records[\"IdList\"])\n",
    "malaria_total"
   ]
  },
  {
   "cell_type": "markdown",
   "metadata": {},
   "source": [
    "### Download paper details for additional analysis\n",
    "With that captured, we can now check for the number of papers published for the popular machine learning algorithms for malaria research. We will use this data to observe the trends in the adoption of various algorithms"
   ]
  },
  {
   "cell_type": "code",
   "execution_count": null,
   "metadata": {},
   "outputs": [],
   "source": [
    "for machine in ml:\n",
    "    handle = Entrez.esearch(db = \"pubmed\", retmax=100000, term=\"[%s] AND %s\" % (machine,'malaria'))\n",
    "    kenyan_records = Entrez.read(handle)\n",
    "    kenyan_pubids = kenyan_records[\"IdList\"]\n",
    "\n",
    "    Main_df = pd.DataFrame()\n",
    "    for pubid in kenyan_pubids:\n",
    "        test= Entrez.read(Entrez.esummary(db = \"pubmed\", id = pubid))\n",
    "        df2 = pd.DataFrame(test)\n",
    "        Main_df = pd.concat([Main_df,df2])\n",
    "\n",
    "    Cleaned_Main_df = Main_df[['Id', 'ArticleIds', 'AuthorList', 'DOI' ,\n",
    "           'FullJournalName', 'HasAbstract', 'LastAuthor', 'NlmUniqueID',\n",
    "           'PubDate', 'PubTypeList', 'RecordStatus', 'Source', 'Title']]\n",
    "    out_file = \"_\".join(machine.split())\n",
    "    Cleaned_Main_df.to_csv(out_file+\".txt\", sep='\\t', index=False)\n",
    "    "
   ]
  },
  {
   "cell_type": "code",
   "execution_count": null,
   "metadata": {},
   "outputs": [],
   "source": [
    "for machine in ml:\n",
    "    out_file = \"_\".join(machine.split())+\".txt\"\n",
    "    df = pd.read_table(out_file)\n",
    "    df = df[['Id','PubDate','FullJournalName']]\n",
    "    df = df.loc[:,~df.columns.duplicated()]\n",
    "    convertDate(df,\"Data/%s\" % out_file)"
   ]
  },
  {
   "cell_type": "code",
   "execution_count": 8,
   "metadata": {},
   "outputs": [],
   "source": [
    "def convertDate(data,outcsv):\n",
    "    '''\n",
    "    Given a dataframe, convert to date time and separate\n",
    "    the date columns\n",
    "    '''\n",
    "    data.set_index('Id', inplace=True)\n",
    "    #### Conver the date column to date format\n",
    "    data['date'] = pd.to_datetime(data['PubDate'], errors='coerce')\n",
    "    data['year'] = data.date.dt.year\n",
    "    data['month'] = data.date.dt.month\n",
    "    ### Save the data in a csv for future re-use\n",
    "    data.to_csv(outcsv,sep='\\t')\n",
    "    return data"
   ]
  },
  {
   "cell_type": "markdown",
   "metadata": {},
   "source": [
    "### Data Analysis and Visualization\n",
    "\n",
    "Here we perform quick plots to understand trends in machine learning diffusion to malaria research. "
   ]
  },
  {
   "cell_type": "code",
   "execution_count": 11,
   "metadata": {},
   "outputs": [
    {
     "data": {
      "text/plain": [
       "<Figure size 576x432 with 0 Axes>"
      ]
     },
     "metadata": {},
     "output_type": "display_data"
    }
   ],
   "source": [
    "for machine in ml:\n",
    "    out_file = \"_\".join(machine.split())\n",
    "    data = pd.read_table(\"Data/\"+out_file+\".txt\", index_col='Id')\n",
    "    data['year'].value_counts().sort_index().plot(kind='bar',\n",
    "                                     title='Number of Papers talking about malaria and %s Per Year'% machine,\n",
    "                                                  figsize=(8, 6))\n",
    "    plt.savefig('Plots/malaria_%s.png' % out_file)\n",
    "    plt.clf()"
   ]
  },
  {
   "cell_type": "code",
   "execution_count": 12,
   "metadata": {},
   "outputs": [
    {
     "data": {
      "image/png": "[encoded data removed]",
      "text/plain": [
       "<Figure size 576x432 with 1 Axes>"
      ]
     },
     "metadata": {},
     "output_type": "display_data"
    }
   ],
   "source": [
    "machine = \"linear regression\"\n",
    "out_file = \"_\".join(machine.split())\n",
    "data = pd.read_table(\"Data/\"+out_file+\".txt\", index_col='Id')\n",
    "data['year'].value_counts().sort_index().plot(kind='bar',\n",
    "                                 title='Number of Papers talking about malaria and %s Per Year'% machine,\n",
    "                                              figsize=(8, 6))\n",
    "plt.savefig('Plots/malaria_%s.png' % out_file)"
   ]
  },
  {
   "cell_type": "code",
   "execution_count": 13,
   "metadata": {},
   "outputs": [
    {
     "data": {
      "image/png": "[encoded data removed]",
      "text/plain": [
       "<Figure size 576x432 with 1 Axes>"
      ]
     },
     "metadata": {},
     "output_type": "display_data"
    }
   ],
   "source": [
    "machine = \"linear regression\"\n",
    "out_file = \"_\".join(machine.split())\n",
    "data = pd.read_table(\"Data/\"+out_file+\".txt\", index_col='Id')\n",
    "data['year'].value_counts().sort_index().plot(kind='bar',\n",
    "                                 title='Number of Papers talking about malaria and %s Per Year'% machine,\n",
    "                                              figsize=(8, 6))\n",
    "plt.savefig('Plots/malaria_%s.png' % out_file)"
   ]
  },
  {
   "cell_type": "markdown",
   "metadata": {},
   "source": [
    "The above quick analysis seems to show that the algorithms popularity may have peeked in 2015, but have been on the decline ever since. We need to investigat this further. "
   ]
  },
  {
   "cell_type": "code",
   "execution_count": 14,
   "metadata": {},
   "outputs": [],
   "source": [
    "malaria = pd.read_table(\"Data/malaria_ml_counts.txt\")"
   ]
  },
  {
   "cell_type": "code",
   "execution_count": 15,
   "metadata": {},
   "outputs": [
    {
     "data": {
      "text/html": [
       "<div>\n",
       "<style scoped>\n",
       "    .dataframe tbody tr th:only-of-type {\n",
       "        vertical-align: middle;\n",
       "    }\n",
       "\n",
       "    .dataframe tbody tr th {\n",
       "        vertical-align: top;\n",
       "    }\n",
       "\n",
       "    .dataframe thead th {\n",
       "        text-align: right;\n",
       "    }\n",
       "</style>\n",
       "<table border=\"1\" class=\"dataframe\">\n",
       "  <thead>\n",
       "    <tr style=\"text-align: right;\">\n",
       "      <th></th>\n",
       "      <th>ML_algorithm</th>\n",
       "      <th>Count</th>\n",
       "      <th>First_Paper</th>\n",
       "      <th>Latest_paper</th>\n",
       "    </tr>\n",
       "  </thead>\n",
       "  <tbody>\n",
       "    <tr>\n",
       "      <th>0</th>\n",
       "      <td>DNA sequencing</td>\n",
       "      <td>186</td>\n",
       "      <td>1988 Feb</td>\n",
       "      <td>2019</td>\n",
       "    </tr>\n",
       "    <tr>\n",
       "      <th>1</th>\n",
       "      <td>machine learning</td>\n",
       "      <td>73</td>\n",
       "      <td>2008 Apr 16</td>\n",
       "      <td>2019 Mar 27</td>\n",
       "    </tr>\n",
       "    <tr>\n",
       "      <th>2</th>\n",
       "      <td>neural networks</td>\n",
       "      <td>31</td>\n",
       "      <td>2001</td>\n",
       "      <td>2019 Mar 27</td>\n",
       "    </tr>\n",
       "    <tr>\n",
       "      <th>3</th>\n",
       "      <td>support vector machine</td>\n",
       "      <td>21</td>\n",
       "      <td>2008 Feb 15</td>\n",
       "      <td>2019 Mar</td>\n",
       "    </tr>\n",
       "    <tr>\n",
       "      <th>4</th>\n",
       "      <td>k-nearest neighbor</td>\n",
       "      <td>7</td>\n",
       "      <td>2010 Mar</td>\n",
       "      <td>2019 Apr 1</td>\n",
       "    </tr>\n",
       "    <tr>\n",
       "      <th>5</th>\n",
       "      <td>linear regression</td>\n",
       "      <td>219</td>\n",
       "      <td>1983 Dec</td>\n",
       "      <td>2018 Oct-Dec</td>\n",
       "    </tr>\n",
       "    <tr>\n",
       "      <th>6</th>\n",
       "      <td>random forests</td>\n",
       "      <td>6</td>\n",
       "      <td>2013 Feb 11</td>\n",
       "      <td>2018 Feb 14</td>\n",
       "    </tr>\n",
       "    <tr>\n",
       "      <th>7</th>\n",
       "      <td>logistic regression</td>\n",
       "      <td>1016</td>\n",
       "      <td>1987 Oct</td>\n",
       "      <td>2019 Apr 6</td>\n",
       "    </tr>\n",
       "    <tr>\n",
       "      <th>8</th>\n",
       "      <td>convolutional neural networks</td>\n",
       "      <td>3</td>\n",
       "      <td>2018</td>\n",
       "      <td>2018 Sep 25</td>\n",
       "    </tr>\n",
       "  </tbody>\n",
       "</table>\n",
       "</div>"
      ],
      "text/plain": [
       "                    ML_algorithm  Count  First_Paper  Latest_paper\n",
       "0                 DNA sequencing    186     1988 Feb          2019\n",
       "1               machine learning     73  2008 Apr 16   2019 Mar 27\n",
       "2                neural networks     31         2001   2019 Mar 27\n",
       "3         support vector machine     21  2008 Feb 15      2019 Mar\n",
       "4             k-nearest neighbor      7     2010 Mar    2019 Apr 1\n",
       "5              linear regression    219     1983 Dec  2018 Oct-Dec\n",
       "6                 random forests      6  2013 Feb 11   2018 Feb 14\n",
       "7            logistic regression   1016     1987 Oct    2019 Apr 6\n",
       "8  convolutional neural networks      3         2018   2018 Sep 25"
      ]
     },
     "execution_count": 15,
     "metadata": {},
     "output_type": "execute_result"
    }
   ],
   "source": [
    "malaria"
   ]
  },
  {
   "cell_type": "markdown",
   "metadata": {},
   "source": [
    "### Data Cleaning and analysis"
   ]
  },
  {
   "cell_type": "code",
   "execution_count": 16,
   "metadata": {},
   "outputs": [],
   "source": [
    "#malaria.set_index('ML_algorithm', inplace=True)\n",
    "    #### Conver the date column to date format\n",
    "malaria['date'] = pd.to_datetime(malaria['First_Paper'], errors='coerce')\n",
    "malaria['year_mal'] = malaria.date.dt.year"
   ]
  },
  {
   "cell_type": "code",
   "execution_count": 17,
   "metadata": {},
   "outputs": [],
   "source": [
    "malaria = malaria[['ML_algorithm','Count','year_mal']]\n",
    "malaria.columns = ['ML_algorithm','mal_Count','year_mal']"
   ]
  },
  {
   "cell_type": "code",
   "execution_count": 18,
   "metadata": {},
   "outputs": [],
   "source": [
    "cancer = pd.read_table(\"Data/cancer_ml_counts.txt\")\n",
    "cancer['date'] = pd.to_datetime(cancer['First_Paper'], errors='coerce')\n",
    "cancer['year_cancer'] = cancer.date.dt.year"
   ]
  },
  {
   "cell_type": "code",
   "execution_count": 19,
   "metadata": {},
   "outputs": [],
   "source": [
    "cancer  = cancer[['ML_algorithm','Count','year_cancer']]"
   ]
  },
  {
   "cell_type": "code",
   "execution_count": 20,
   "metadata": {},
   "outputs": [],
   "source": [
    "cancer.columns = ['ML_algorithm','Cancer_Count','year_cancer']"
   ]
  },
  {
   "cell_type": "code",
   "execution_count": 22,
   "metadata": {},
   "outputs": [
    {
     "data": {
      "text/html": [
       "<div>\n",
       "<style scoped>\n",
       "    .dataframe tbody tr th:only-of-type {\n",
       "        vertical-align: middle;\n",
       "    }\n",
       "\n",
       "    .dataframe tbody tr th {\n",
       "        vertical-align: top;\n",
       "    }\n",
       "\n",
       "    .dataframe thead th {\n",
       "        text-align: right;\n",
       "    }\n",
       "</style>\n",
       "<table border=\"1\" class=\"dataframe\">\n",
       "  <thead>\n",
       "    <tr style=\"text-align: right;\">\n",
       "      <th></th>\n",
       "      <th>ML_algorithm</th>\n",
       "      <th>Cancer_Count</th>\n",
       "      <th>year_cancer</th>\n",
       "    </tr>\n",
       "  </thead>\n",
       "  <tbody>\n",
       "    <tr>\n",
       "      <th>0</th>\n",
       "      <td>DNA sequencing</td>\n",
       "      <td>5533</td>\n",
       "      <td>1978</td>\n",
       "    </tr>\n",
       "    <tr>\n",
       "      <th>1</th>\n",
       "      <td>machine learning</td>\n",
       "      <td>3040</td>\n",
       "      <td>1990</td>\n",
       "    </tr>\n",
       "    <tr>\n",
       "      <th>2</th>\n",
       "      <td>neural networks</td>\n",
       "      <td>2468</td>\n",
       "      <td>1989</td>\n",
       "    </tr>\n",
       "    <tr>\n",
       "      <th>3</th>\n",
       "      <td>support vector machine</td>\n",
       "      <td>1950</td>\n",
       "      <td>2000</td>\n",
       "    </tr>\n",
       "    <tr>\n",
       "      <th>4</th>\n",
       "      <td>k-nearest neighbor</td>\n",
       "      <td>291</td>\n",
       "      <td>1992</td>\n",
       "    </tr>\n",
       "    <tr>\n",
       "      <th>5</th>\n",
       "      <td>linear regression</td>\n",
       "      <td>7850</td>\n",
       "      <td>1975</td>\n",
       "    </tr>\n",
       "    <tr>\n",
       "      <th>6</th>\n",
       "      <td>random forests</td>\n",
       "      <td>212</td>\n",
       "      <td>2003</td>\n",
       "    </tr>\n",
       "    <tr>\n",
       "      <th>7</th>\n",
       "      <td>logistic regression</td>\n",
       "      <td>41109</td>\n",
       "      <td>1976</td>\n",
       "    </tr>\n",
       "    <tr>\n",
       "      <th>8</th>\n",
       "      <td>convolutional neural networks</td>\n",
       "      <td>261</td>\n",
       "      <td>2013</td>\n",
       "    </tr>\n",
       "  </tbody>\n",
       "</table>\n",
       "</div>"
      ],
      "text/plain": [
       "                    ML_algorithm  Cancer_Count  year_cancer\n",
       "0                 DNA sequencing          5533         1978\n",
       "1               machine learning          3040         1990\n",
       "2                neural networks          2468         1989\n",
       "3         support vector machine          1950         2000\n",
       "4             k-nearest neighbor           291         1992\n",
       "5              linear regression          7850         1975\n",
       "6                 random forests           212         2003\n",
       "7            logistic regression         41109         1976\n",
       "8  convolutional neural networks           261         2013"
      ]
     },
     "execution_count": 22,
     "metadata": {},
     "output_type": "execute_result"
    }
   ],
   "source": [
    "cancer"
   ]
  },
  {
   "cell_type": "code",
   "execution_count": 23,
   "metadata": {},
   "outputs": [],
   "source": [
    "marged_data = pd.merge(cancer, malaria, on='ML_algorithm')"
   ]
  },
  {
   "cell_type": "code",
   "execution_count": 24,
   "metadata": {},
   "outputs": [],
   "source": [
    "marged_data['delay'] = marged_data['year_mal'] - marged_data['year_cancer']"
   ]
  },
  {
   "cell_type": "code",
   "execution_count": 25,
   "metadata": {},
   "outputs": [],
   "source": [
    "marged_data.set_index('ML_algorithm',inplace=True)"
   ]
  },
  {
   "cell_type": "code",
   "execution_count": 34,
   "metadata": {},
   "outputs": [
    {
     "data": {
      "text/html": [
       "<div>\n",
       "<style scoped>\n",
       "    .dataframe tbody tr th:only-of-type {\n",
       "        vertical-align: middle;\n",
       "    }\n",
       "\n",
       "    .dataframe tbody tr th {\n",
       "        vertical-align: top;\n",
       "    }\n",
       "\n",
       "    .dataframe thead th {\n",
       "        text-align: right;\n",
       "    }\n",
       "</style>\n",
       "<table border=\"1\" class=\"dataframe\">\n",
       "  <thead>\n",
       "    <tr style=\"text-align: right;\">\n",
       "      <th></th>\n",
       "      <th>Cancer_Count</th>\n",
       "      <th>year_cancer</th>\n",
       "      <th>mal_Count</th>\n",
       "      <th>year_mal</th>\n",
       "      <th>delay</th>\n",
       "    </tr>\n",
       "    <tr>\n",
       "      <th>ML_algorithm</th>\n",
       "      <th></th>\n",
       "      <th></th>\n",
       "      <th></th>\n",
       "      <th></th>\n",
       "      <th></th>\n",
       "    </tr>\n",
       "  </thead>\n",
       "  <tbody>\n",
       "    <tr>\n",
       "      <th>DNA sequencing</th>\n",
       "      <td>5533</td>\n",
       "      <td>1978</td>\n",
       "      <td>186</td>\n",
       "      <td>1988</td>\n",
       "      <td>10</td>\n",
       "    </tr>\n",
       "    <tr>\n",
       "      <th>machine learning</th>\n",
       "      <td>3040</td>\n",
       "      <td>1990</td>\n",
       "      <td>73</td>\n",
       "      <td>2008</td>\n",
       "      <td>18</td>\n",
       "    </tr>\n",
       "    <tr>\n",
       "      <th>neural networks</th>\n",
       "      <td>2468</td>\n",
       "      <td>1989</td>\n",
       "      <td>31</td>\n",
       "      <td>2001</td>\n",
       "      <td>12</td>\n",
       "    </tr>\n",
       "    <tr>\n",
       "      <th>support vector machine</th>\n",
       "      <td>1950</td>\n",
       "      <td>2000</td>\n",
       "      <td>21</td>\n",
       "      <td>2008</td>\n",
       "      <td>8</td>\n",
       "    </tr>\n",
       "    <tr>\n",
       "      <th>k-nearest neighbor</th>\n",
       "      <td>291</td>\n",
       "      <td>1992</td>\n",
       "      <td>7</td>\n",
       "      <td>2010</td>\n",
       "      <td>18</td>\n",
       "    </tr>\n",
       "    <tr>\n",
       "      <th>linear regression</th>\n",
       "      <td>7850</td>\n",
       "      <td>1975</td>\n",
       "      <td>219</td>\n",
       "      <td>1983</td>\n",
       "      <td>8</td>\n",
       "    </tr>\n",
       "    <tr>\n",
       "      <th>random forests</th>\n",
       "      <td>212</td>\n",
       "      <td>2003</td>\n",
       "      <td>6</td>\n",
       "      <td>2013</td>\n",
       "      <td>10</td>\n",
       "    </tr>\n",
       "    <tr>\n",
       "      <th>logistic regression</th>\n",
       "      <td>41109</td>\n",
       "      <td>1976</td>\n",
       "      <td>1016</td>\n",
       "      <td>1987</td>\n",
       "      <td>11</td>\n",
       "    </tr>\n",
       "    <tr>\n",
       "      <th>convolutional neural networks</th>\n",
       "      <td>261</td>\n",
       "      <td>2013</td>\n",
       "      <td>3</td>\n",
       "      <td>2018</td>\n",
       "      <td>5</td>\n",
       "    </tr>\n",
       "  </tbody>\n",
       "</table>\n",
       "</div>"
      ],
      "text/plain": [
       "                               Cancer_Count  year_cancer  mal_Count  year_mal  \\\n",
       "ML_algorithm                                                                    \n",
       "DNA sequencing                         5533         1978        186      1988   \n",
       "machine learning                       3040         1990         73      2008   \n",
       "neural networks                        2468         1989         31      2001   \n",
       "support vector machine                 1950         2000         21      2008   \n",
       "k-nearest neighbor                      291         1992          7      2010   \n",
       "linear regression                      7850         1975        219      1983   \n",
       "random forests                          212         2003          6      2013   \n",
       "logistic regression                   41109         1976       1016      1987   \n",
       "convolutional neural networks           261         2013          3      2018   \n",
       "\n",
       "                               delay  \n",
       "ML_algorithm                          \n",
       "DNA sequencing                    10  \n",
       "machine learning                  18  \n",
       "neural networks                   12  \n",
       "support vector machine             8  \n",
       "k-nearest neighbor                18  \n",
       "linear regression                  8  \n",
       "random forests                    10  \n",
       "logistic regression               11  \n",
       "convolutional neural networks      5  "
      ]
     },
     "execution_count": 34,
     "metadata": {},
     "output_type": "execute_result"
    }
   ],
   "source": [
    "marged_data"
   ]
  },
  {
   "cell_type": "code",
   "execution_count": 33,
   "metadata": {},
   "outputs": [
    {
     "data": {
      "text/plain": [
       "11.11111111111111"
      ]
     },
     "execution_count": 33,
     "metadata": {},
     "output_type": "execute_result"
    }
   ],
   "source": [
    "sum(marged_data.delay)/(len(marged_data.delay))"
   ]
  },
  {
   "cell_type": "markdown",
   "metadata": {},
   "source": [
    "We observe that it takes an average of ten years for technoilogies, especialy machine learning techniques to diffuse from cancer to malaria research. "
   ]
  },
  {
   "cell_type": "code",
   "execution_count": 28,
   "metadata": {},
   "outputs": [],
   "source": [
    "#(marged_data.Cancer_Count/cancer_total)*100"
   ]
  },
  {
   "cell_type": "code",
   "execution_count": 27,
   "metadata": {},
   "outputs": [
    {
     "data": {
      "text/plain": [
       "ML_algorithm\n",
       "machine learning                 0.085823\n",
       "neural networks                  0.036310\n",
       "support vector machine           0.034109\n",
       "k-nearest neighbor               0.006602\n",
       "linear regression                0.715190\n",
       "random forests                   0.011003\n",
       "logistic regression              1.422677\n",
       "convolutional neural networks    0.003301\n",
       "Name: mal_Count, dtype: float64"
      ]
     },
     "execution_count": 27,
     "metadata": {},
     "output_type": "execute_result"
    }
   ],
   "source": [
    "(marged_data.mal_Count/malaria_total)*100"
   ]
  },
  {
   "cell_type": "code",
   "execution_count": null,
   "metadata": {},
   "outputs": [],
   "source": []
  },
  {
   "cell_type": "markdown",
   "metadata": {},
   "source": [
    "### It takes a long time for machine learning models to diffuse into malaria\n",
    "\n",
    "What are the major points here:\n",
    "\n",
    "Interestingly, Pubmed cancer \"DNA sequencing\" shows 5484 papers with the first in 1978, while Pubmed malaria \"DNA sequencing\" shows 186 papers with the first in 1988. So even other technologies take 10 years to diffuse from cancer to malaria.\n",
    "- Why do we have this observation?\n",
    "- How can we improve on this, and I guess this is where we can introduce the machine learning challenge to improve how these tools diffuse to malaria research. \n",
    "\n",
    "\n",
    "#### Outline\n",
    "- Inroduce malaria\n",
    "- Introduce machine learning\n",
    "- Introduce the high level approaches used to study malaria\n",
    "- Link that to the deluge of data, including the H3Afrca... and this meanse there is need to adopt technologies that can handle and combine data of disparate / different types\n",
    "- Genetic predesposition? A coonection, though not very strong, exist between these two diseases...\n",
    "- Cancer research outside Africa is multi-disciplinary. Compyter scientists and biologisst work together for cancer research, especially for tool developemnt and data analysis. However, in Africa, where majority of the malaria research is conducted, there is little interdisciplinary colaboration, especially attracting computer scientists to genomic research\n",
    "- \n",
    "\n",
    "\n",
    "### References\n",
    "1. https://doi.org/10.1016/j.csbj.2014.11.005\n",
    "2. https://royalsocietypublishing.org/doi/pdf/10.1098/rsob.180127\n",
    "3. "
   ]
  },
  {
   "cell_type": "code",
   "execution_count": null,
   "metadata": {},
   "outputs": [],
   "source": []
  }
 ],
 "metadata": {
  "kernelspec": {
   "display_name": "Python 3",
   "language": "python",
   "name": "python3"
  },
  "language_info": {
   "codemirror_mode": {
    "name": "ipython",
    "version": 3
   },
   "file_extension": ".py",
   "mimetype": "text/x-python",
   "name": "python",
   "nbconvert_exporter": "python",
   "pygments_lexer": "ipython3",
   "version": "3.6.8"
  }
 },
 "nbformat": 4,
 "nbformat_minor": 2
}
